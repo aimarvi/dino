{
 "cells": [
  {
   "cell_type": "code",
   "execution_count": 27,
   "id": "08ccdd90",
   "metadata": {},
   "outputs": [],
   "source": [
    "from torchvision import datasets\n",
    "import torch\n",
    "from torch.utils.data import Dataset\n",
    "import os\n",
    "from tqdm import tqdm\n",
    "\n",
    "class CustomImageFolder(Dataset):\n",
    "    def __init__(self, root, meta_file, transform=None):\n",
    "        self.root = root\n",
    "        with open(meta_file, 'r') as f:\n",
    "            self.image_paths = [os.path.join(root, line.strip()) for line in f.readlines()]\n",
    "        self.transform = transform\n",
    "        self.image_folder = datasets.ImageFolder(root)\n",
    "        \n",
    "        # Filter out indices of images to be included based on the meta file\n",
    "        image_paths_set = set(self.image_paths)\n",
    "        self.indices = [\n",
    "            idx for idx, path in tqdm(enumerate(self.image_folder.samples))\n",
    "            if os.path.join(self.root, path[0]) in image_paths_set\n",
    "        ]\n",
    "    \n",
    "    def __len__(self):\n",
    "        return len(self.indices)\n",
    "    \n",
    "    def __getitem__(self, idx):\n",
    "        img, label = self.image_folder[self.indices[idx]]\n",
    "        if self.transform:\n",
    "            img = self.transform(img)\n",
    "        return img, label"
   ]
  },
  {
   "cell_type": "code",
   "execution_count": 28,
   "id": "cb42558d",
   "metadata": {},
   "outputs": [
    {
     "name": "stderr",
     "output_type": "stream",
     "text": [
      "444144it [00:00, 535732.09it/s]\n"
     ]
    }
   ],
   "source": [
    "data_path = '/om2/group/nklab/shared/datasets/faces_and_objects/nonface/'\n",
    "meta_file = '/om2/user/amarvi/dino/data/dobs_obj_train.txt'\n",
    "\n",
    "dataset = CustomImageFolder(data_path, meta_file)"
   ]
  },
  {
   "cell_type": "code",
   "execution_count": 29,
   "id": "9b048044",
   "metadata": {},
   "outputs": [
    {
     "name": "stdout",
     "output_type": "stream",
     "text": [
      "422994\n"
     ]
    }
   ],
   "source": [
    "print(len(dataset))"
   ]
  }
 ],
 "metadata": {
  "kernelspec": {
   "display_name": "Python 3",
   "language": "python",
   "name": "python3"
  },
  "language_info": {
   "codemirror_mode": {
    "name": "ipython",
    "version": 3
   },
   "file_extension": ".py",
   "mimetype": "text/x-python",
   "name": "python",
   "nbconvert_exporter": "python",
   "pygments_lexer": "ipython3",
   "version": "3.6.13"
  }
 },
 "nbformat": 4,
 "nbformat_minor": 5
}
