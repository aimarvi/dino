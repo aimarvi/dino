{
 "cells": [
  {
   "cell_type": "code",
   "execution_count": 3,
   "id": "cdf5fdb7",
   "metadata": {},
   "outputs": [],
   "source": [
    "import sys\n",
    "sys.path.append('..')\n",
    "\n",
    "import torch\n",
    "import os\n",
    "import scipy.io\n",
    "import pandas as pd\n",
    "import numpy as np\n",
    "\n",
    "from PIL import Image\n",
    "from tqdm import tqdm\n",
    "from torchvision import transforms, datasets\n",
    "from torchvision import models as torchvision_models\n",
    "\n",
    "import utils"
   ]
  },
  {
   "cell_type": "code",
   "execution_count": 11,
   "id": "eaa2fb1b",
   "metadata": {},
   "outputs": [
    {
     "name": "stdout",
     "output_type": "stream",
     "text": [
      "Take key student in provided checkpoint dict\n",
      "Pretrained weights found at /om2/user/amarvi/dino/saved_models/obj400_dino-r50/checkpoint.pth and loaded with msg: _IncompatibleKeys(missing_keys=['fc.weight', 'fc.bias'], unexpected_keys=['head.mlp.0.weight', 'head.mlp.0.bias', 'head.mlp.2.weight', 'head.mlp.2.bias', 'head.mlp.4.weight', 'head.mlp.4.bias', 'head.last_layer.weight_g', 'head.last_layer.weight_v'])\n",
      "Model resnet50 built.\n"
     ]
    }
   ],
   "source": [
    "arch = 'resnet50'\n",
    "dat = 'obj'\n",
    "ckpt_pth = f'/om2/user/amarvi/dino/saved_models/{dat}400_dino-r50/checkpoint.pth'\n",
    "\n",
    "model = torchvision_models.__dict__[arch]()\n",
    "model.cuda()\n",
    "model.eval()\n",
    "utils.load_pretrained_weights(model, ckpt_pth, 'student', arch, 0)\n",
    "\n",
    "print(f\"Model {arch} built.\")"
   ]
  },
  {
   "cell_type": "code",
   "execution_count": 6,
   "id": "25bf09a1",
   "metadata": {},
   "outputs": [],
   "source": [
    "transform = transforms.Compose([\n",
    "    transforms.Resize(256, interpolation=3),\n",
    "    transforms.CenterCrop(224),\n",
    "    transforms.ToTensor(),\n",
    "    transforms.Normalize((0.485, 0.456, 0.406), (0.229, 0.224, 0.225)),\n",
    "]) "
   ]
  },
  {
   "cell_type": "code",
   "execution_count": 12,
   "id": "02c73e83",
   "metadata": {},
   "outputs": [
    {
     "name": "stderr",
     "output_type": "stream",
     "text": [
      "100%|██████████| 200/200 [00:05<00:00, 36.18it/s]\n"
     ]
    }
   ],
   "source": [
    "img_folder = f'/om2/user/amarvi/FACE/data/behav_{dat}'\n",
    "img_list = []\n",
    "\n",
    "for jpg_name in tqdm(os.listdir(img_folder)):\n",
    "    img_pth = os.path.join(img_folder, jpg_name)\n",
    "    img = Image.open(img_pth).convert('RGB')\n",
    "    inpt_img = transform(img)\n",
    "    img_list.append(inpt_img)\n",
    "    \n",
    "batch_tensor = torch.stack(img_list).cuda()    "
   ]
  },
  {
   "cell_type": "code",
   "execution_count": 13,
   "id": "797838d5",
   "metadata": {},
   "outputs": [],
   "source": [
    "activations = {}\n",
    "hooks = []\n",
    "register_hooks(model)\n",
    "\n",
    "with torch.no_grad():\n",
    "    _ = model(batch_tensor)"
   ]
  },
  {
   "cell_type": "code",
   "execution_count": 14,
   "id": "dc27d842",
   "metadata": {},
   "outputs": [],
   "source": [
    "# cols = ['model', 'dataset', 'size', 'image_idx', 'activation']\n",
    "# df = pd.DataFrame(columns=cols)\n",
    "for idx, (layer, activation) in enumerate(activations.items()):\n",
    "    df.loc[len(df)] = {'model': 'dino', 'dataset': dat, 'size': '400', 'image_idx': layers[idx], 'activation': activation.detach().cpu().numpy()}"
   ]
  },
  {
   "cell_type": "code",
   "execution_count": 16,
   "id": "bef40e59",
   "metadata": {},
   "outputs": [],
   "source": [
    "df.to_pickle('/om2/user/amarvi/dino/saved_models/mts_dino-r50_activations.pkl')"
   ]
  },
  {
   "cell_type": "code",
   "execution_count": 7,
   "id": "09027676",
   "metadata": {},
   "outputs": [],
   "source": [
    "def hook_fn(module, input, output):\n",
    "    activations[module] = output\n",
    "\n",
    "def register_hooks(model):\n",
    "    for name, module in model.named_modules():\n",
    "        if isinstance(module, torch.nn.ReLU):\n",
    "            hook = module.register_forward_hook(hook_fn)\n",
    "            hooks.append(hook)\n",
    "            \n",
    "layers = []\n",
    "for name, module in model.named_modules():\n",
    "    if isinstance(module, torch.nn.ReLU):\n",
    "        layers.append(name)"
   ]
  },
  {
   "cell_type": "code",
   "execution_count": 17,
   "id": "8e57fda3",
   "metadata": {},
   "outputs": [
    {
     "name": "stdout",
     "output_type": "stream",
     "text": [
      "(3, 1560) (1, 1560)\n"
     ]
    }
   ],
   "source": [
    "f = scipy.io.loadmat('/om2/user/amarvi/FACE/data/data_up.mat')\n",
    "\n",
    "triplet = f['data_up'][0][0][0]\n",
    "perf = f['data_up'][0][0][1]\n",
    "\n",
    "print(triplet.shape, perf.shape)"
   ]
  },
  {
   "cell_type": "code",
   "execution_count": 21,
   "id": "553f2264",
   "metadata": {},
   "outputs": [
    {
     "name": "stderr",
     "output_type": "stream",
     "text": [
      "1it [00:02,  2.31s/it]"
     ]
    },
    {
     "name": "stdout",
     "output_type": "stream",
     "text": [
      "face relu 0.5301282051282051\n"
     ]
    },
    {
     "name": "stderr",
     "output_type": "stream",
     "text": [
      "\r",
      "2it [00:04,  2.31s/it]"
     ]
    },
    {
     "name": "stdout",
     "output_type": "stream",
     "text": [
      "face layer1.0.relu 0.5775641025641025\n"
     ]
    },
    {
     "name": "stderr",
     "output_type": "stream",
     "text": [
      "\r",
      "3it [00:06,  2.31s/it]"
     ]
    },
    {
     "name": "stdout",
     "output_type": "stream",
     "text": [
      "face layer1.1.relu 0.5698717948717948\n"
     ]
    },
    {
     "name": "stderr",
     "output_type": "stream",
     "text": [
      "\r",
      "4it [00:09,  2.31s/it]"
     ]
    },
    {
     "name": "stdout",
     "output_type": "stream",
     "text": [
      "face layer1.2.relu 0.5788461538461538\n"
     ]
    },
    {
     "name": "stderr",
     "output_type": "stream",
     "text": [
      "\r",
      "5it [00:10,  1.95s/it]"
     ]
    },
    {
     "name": "stdout",
     "output_type": "stream",
     "text": [
      "face layer2.0.relu 0.6243589743589744\n"
     ]
    },
    {
     "name": "stderr",
     "output_type": "stream",
     "text": [
      "\r",
      "6it [00:11,  1.73s/it]"
     ]
    },
    {
     "name": "stdout",
     "output_type": "stream",
     "text": [
      "face layer2.1.relu 0.6333333333333333\n"
     ]
    },
    {
     "name": "stderr",
     "output_type": "stream",
     "text": [
      "\r",
      "7it [00:13,  1.60s/it]"
     ]
    },
    {
     "name": "stdout",
     "output_type": "stream",
     "text": [
      "face layer2.2.relu 0.6326923076923077\n"
     ]
    },
    {
     "name": "stderr",
     "output_type": "stream",
     "text": [
      "\r",
      "8it [00:14,  1.50s/it]"
     ]
    },
    {
     "name": "stdout",
     "output_type": "stream",
     "text": [
      "face layer2.3.relu 0.625\n"
     ]
    },
    {
     "name": "stderr",
     "output_type": "stream",
     "text": [
      "\r",
      "9it [00:15,  1.30s/it]"
     ]
    },
    {
     "name": "stdout",
     "output_type": "stream",
     "text": [
      "face layer3.0.relu 0.6403846153846153\n"
     ]
    },
    {
     "name": "stderr",
     "output_type": "stream",
     "text": [
      "\r",
      "10it [00:16,  1.15s/it]"
     ]
    },
    {
     "name": "stdout",
     "output_type": "stream",
     "text": [
      "face layer3.1.relu 0.648076923076923\n"
     ]
    },
    {
     "name": "stderr",
     "output_type": "stream",
     "text": [
      "\r",
      "11it [00:16,  1.05s/it]"
     ]
    },
    {
     "name": "stdout",
     "output_type": "stream",
     "text": [
      "face layer3.2.relu 0.641025641025641\n"
     ]
    },
    {
     "name": "stderr",
     "output_type": "stream",
     "text": [
      "\r",
      "12it [00:17,  1.01it/s]"
     ]
    },
    {
     "name": "stdout",
     "output_type": "stream",
     "text": [
      "face layer3.3.relu 0.6467948717948717\n"
     ]
    },
    {
     "name": "stderr",
     "output_type": "stream",
     "text": [
      "\r",
      "13it [00:18,  1.06it/s]"
     ]
    },
    {
     "name": "stdout",
     "output_type": "stream",
     "text": [
      "face layer3.4.relu 0.648076923076923\n"
     ]
    },
    {
     "name": "stderr",
     "output_type": "stream",
     "text": [
      "\r",
      "14it [00:19,  1.10it/s]"
     ]
    },
    {
     "name": "stdout",
     "output_type": "stream",
     "text": [
      "face layer3.5.relu 0.6403846153846153\n"
     ]
    },
    {
     "name": "stderr",
     "output_type": "stream",
     "text": [
      "\r",
      "15it [00:20,  1.22it/s]"
     ]
    },
    {
     "name": "stdout",
     "output_type": "stream",
     "text": [
      "face layer4.0.relu 0.6416666666666666\n"
     ]
    },
    {
     "name": "stderr",
     "output_type": "stream",
     "text": [
      "\r",
      "16it [00:20,  1.33it/s]"
     ]
    },
    {
     "name": "stdout",
     "output_type": "stream",
     "text": [
      "face layer4.1.relu 0.6435897435897435\n"
     ]
    },
    {
     "name": "stderr",
     "output_type": "stream",
     "text": [
      "\r",
      "17it [00:21,  1.41it/s]"
     ]
    },
    {
     "name": "stdout",
     "output_type": "stream",
     "text": [
      "face layer4.2.relu 0.6237179487179487\n"
     ]
    },
    {
     "name": "stderr",
     "output_type": "stream",
     "text": [
      "\r",
      "18it [00:23,  1.18s/it]"
     ]
    },
    {
     "name": "stdout",
     "output_type": "stream",
     "text": [
      "obj relu 0.5301282051282051\n"
     ]
    },
    {
     "name": "stderr",
     "output_type": "stream",
     "text": [
      "\r",
      "19it [00:25,  1.51s/it]"
     ]
    },
    {
     "name": "stdout",
     "output_type": "stream",
     "text": [
      "obj layer1.0.relu 0.5833333333333333\n"
     ]
    },
    {
     "name": "stderr",
     "output_type": "stream",
     "text": [
      "\r",
      "20it [00:28,  1.75s/it]"
     ]
    },
    {
     "name": "stdout",
     "output_type": "stream",
     "text": [
      "obj layer1.1.relu 0.5762820512820512\n"
     ]
    },
    {
     "name": "stderr",
     "output_type": "stream",
     "text": [
      "\r",
      "21it [00:30,  1.91s/it]"
     ]
    },
    {
     "name": "stdout",
     "output_type": "stream",
     "text": [
      "obj layer1.2.relu 0.5480769230769231\n"
     ]
    },
    {
     "name": "stderr",
     "output_type": "stream",
     "text": [
      "\r",
      "22it [00:31,  1.74s/it]"
     ]
    },
    {
     "name": "stdout",
     "output_type": "stream",
     "text": [
      "obj layer2.0.relu 0.5858974358974358\n"
     ]
    },
    {
     "name": "stderr",
     "output_type": "stream",
     "text": [
      "\r",
      "23it [00:33,  1.61s/it]"
     ]
    },
    {
     "name": "stdout",
     "output_type": "stream",
     "text": [
      "obj layer2.1.relu 0.5717948717948718\n"
     ]
    },
    {
     "name": "stderr",
     "output_type": "stream",
     "text": [
      "\r",
      "24it [00:34,  1.52s/it]"
     ]
    },
    {
     "name": "stdout",
     "output_type": "stream",
     "text": [
      "obj layer2.2.relu 0.5717948717948718\n"
     ]
    },
    {
     "name": "stderr",
     "output_type": "stream",
     "text": [
      "\r",
      "25it [00:35,  1.45s/it]"
     ]
    },
    {
     "name": "stdout",
     "output_type": "stream",
     "text": [
      "obj layer2.3.relu 0.5628205128205128\n"
     ]
    },
    {
     "name": "stderr",
     "output_type": "stream",
     "text": [
      "\r",
      "26it [00:36,  1.26s/it]"
     ]
    },
    {
     "name": "stdout",
     "output_type": "stream",
     "text": [
      "obj layer3.0.relu 0.6961538461538461\n"
     ]
    },
    {
     "name": "stderr",
     "output_type": "stream",
     "text": [
      "\r",
      "27it [00:37,  1.13s/it]"
     ]
    },
    {
     "name": "stdout",
     "output_type": "stream",
     "text": [
      "obj layer3.1.relu 0.6814102564102564\n"
     ]
    },
    {
     "name": "stderr",
     "output_type": "stream",
     "text": [
      "\r",
      "28it [00:38,  1.04s/it]"
     ]
    },
    {
     "name": "stdout",
     "output_type": "stream",
     "text": [
      "obj layer3.2.relu 0.6801282051282052\n"
     ]
    },
    {
     "name": "stderr",
     "output_type": "stream",
     "text": [
      "\r",
      "29it [00:38,  1.03it/s]"
     ]
    },
    {
     "name": "stdout",
     "output_type": "stream",
     "text": [
      "obj layer3.3.relu 0.6692307692307693\n"
     ]
    },
    {
     "name": "stderr",
     "output_type": "stream",
     "text": [
      "\r",
      "30it [00:39,  1.08it/s]"
     ]
    },
    {
     "name": "stdout",
     "output_type": "stream",
     "text": [
      "obj layer3.4.relu 0.6634615384615384\n"
     ]
    },
    {
     "name": "stderr",
     "output_type": "stream",
     "text": [
      "\r",
      "31it [00:40,  1.11it/s]"
     ]
    },
    {
     "name": "stdout",
     "output_type": "stream",
     "text": [
      "obj layer3.5.relu 0.6711538461538462\n"
     ]
    },
    {
     "name": "stderr",
     "output_type": "stream",
     "text": [
      "\r",
      "32it [00:41,  1.24it/s]"
     ]
    },
    {
     "name": "stdout",
     "output_type": "stream",
     "text": [
      "obj layer4.0.relu 0.7884615384615384\n"
     ]
    },
    {
     "name": "stderr",
     "output_type": "stream",
     "text": [
      "\r",
      "33it [00:41,  1.34it/s]"
     ]
    },
    {
     "name": "stdout",
     "output_type": "stream",
     "text": [
      "obj layer4.1.relu 0.8051282051282052\n"
     ]
    },
    {
     "name": "stderr",
     "output_type": "stream",
     "text": [
      "34it [00:42,  1.25s/it]"
     ]
    },
    {
     "name": "stdout",
     "output_type": "stream",
     "text": [
      "obj layer4.2.relu 0.8038461538461539\n"
     ]
    },
    {
     "name": "stderr",
     "output_type": "stream",
     "text": [
      "\n"
     ]
    }
   ],
   "source": [
    "column_names = ['model', 'size', 'dataset', 'layer', 'results', 'accuracy', 'ci']\n",
    "res_df = pd.DataFrame(columns=column_names)\n",
    "\n",
    "for index, row in tqdm(df.iterrows()):\n",
    "    act = row['activation']\n",
    "    dat = row['dataset']\n",
    "    count = 0\n",
    "    bstrap = []\n",
    "\n",
    "    for idx, trio in enumerate(triplet.transpose()):\n",
    "        trio = trio-1\n",
    "        gt = trio//5\n",
    "        [targ, m1, m2] = trio\n",
    "\n",
    "        dist1 = np.linalg.norm(act[targ] - act[m1])\n",
    "        dist2 = np.linalg.norm(act[targ] - act[m2])\n",
    "        model_choice = np.argmax(np.array([dist1, dist2])) + 1\n",
    "        correct_choice = np.where(gt != gt[0])[0]\n",
    "\n",
    "\n",
    "        bstrap.append(int(model_choice == correct_choice))\n",
    "        if model_choice != correct_choice:\n",
    "            count += 1\n",
    "            \n",
    "    bstrap = np.array(bstrap)\n",
    "    n_bootstrap = 10000\n",
    "    bootstrap_samples = np.random.choice(bstrap, size=(len(bstrap), n_bootstrap), replace=True)\n",
    "    bootstrap_sample_means = np.mean(bootstrap_samples, axis=0)\n",
    "\n",
    "    ci_lower = np.percentile(bootstrap_sample_means, 2.5)\n",
    "    ci_upper = np.percentile(bootstrap_sample_means, 97.5)\n",
    "\n",
    "\n",
    "    acc = 1 - count/len(triplet[0])\n",
    "#     print(\"CI:\", (ci_lower, ci_upper), 'Mean:', np.mean(bstrap))\n",
    "    print(dat, row['image_idx'], acc)\n",
    "\n",
    "    res_df.loc[len(res_df)] = {'model': 'dino-r50', 'size': '400', 'dataset': dat, 'layer': row['image_idx'], 'results': bstrap, 'accuracy':np.mean(bstrap), 'ci': (ci_lower, ci_upper)}"
   ]
  },
  {
   "cell_type": "code",
   "execution_count": 22,
   "id": "076f62b6",
   "metadata": {},
   "outputs": [],
   "source": [
    "res_df.to_pickle('/om2/user/amarvi/dino/saved_models/mts_dino-r50_results.pkl')"
   ]
  }
 ],
 "metadata": {
  "kernelspec": {
   "display_name": "Python 3",
   "language": "python",
   "name": "python3"
  },
  "language_info": {
   "codemirror_mode": {
    "name": "ipython",
    "version": 3
   },
   "file_extension": ".py",
   "mimetype": "text/x-python",
   "name": "python",
   "nbconvert_exporter": "python",
   "pygments_lexer": "ipython3",
   "version": "3.6.13"
  }
 },
 "nbformat": 4,
 "nbformat_minor": 5
}
